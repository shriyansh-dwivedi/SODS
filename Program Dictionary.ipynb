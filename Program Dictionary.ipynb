{
 "cells": [
  {
   "cell_type": "code",
   "execution_count": 3,
   "id": "a4f3d6f6-f73e-4c33-8507-e0e8d425ff1c",
   "metadata": {},
   "outputs": [],
   "source": [
    "                     # Dictionary #\n"
   ]
  },
  {
   "cell_type": "code",
   "execution_count": 2,
   "id": "b09cbd2c-5a78-428e-8178-c74cd3fb2e34",
   "metadata": {},
   "outputs": [
    {
     "name": "stdout",
     "output_type": "stream",
     "text": [
      "{'brand': 'BMW', 'Model': 'ix', 'Year': 1964}\n"
     ]
    }
   ],
   "source": [
    "# Dictionary Method \n",
    "car_dict= {\"brand\":\"BMW\",\"Model\":\"ix\",\"Year\":1964}\n",
    "print(car_dict)"
   ]
  },
  {
   "cell_type": "code",
   "execution_count": 4,
   "id": "9043b619-db23-493e-8132-c1d2faef26e6",
   "metadata": {},
   "outputs": [
    {
     "name": "stdout",
     "output_type": "stream",
     "text": [
      "BMW\n"
     ]
    }
   ],
   "source": [
    "# Accessing Dictionary element\n",
    "car_dict= {\"brand\":\"BMW\",\"Model\":\"ix\",\"Year\":1964}\n",
    "print(car_dict['brand'])"
   ]
  },
  {
   "cell_type": "code",
   "execution_count": 5,
   "id": "668d2dd6-2729-48d7-bc2a-901b05449417",
   "metadata": {},
   "outputs": [
    {
     "name": "stdout",
     "output_type": "stream",
     "text": [
      "3\n"
     ]
    }
   ],
   "source": [
    "# Length of Dictionary\n",
    "car_dict= {\"brand\":\"BMW\",\"Model\":\"ix\",\"Year\":1964}\n",
    "print(len(car_dict))"
   ]
  },
  {
   "cell_type": "code",
   "execution_count": 7,
   "id": "34a8b804-c2b3-4a27-bca0-0ad91bef3078",
   "metadata": {},
   "outputs": [
    {
     "name": "stdout",
     "output_type": "stream",
     "text": [
      "{'brand': 'BMW', 'Model': 'ix', 'Year': 1964}\n"
     ]
    }
   ],
   "source": [
    "# Type of Data\n",
    "car_dict= {\"brand\":\"BMW\",\"Model\":\"ix\",\"Year\":1964}\n",
    "print(car_dict)"
   ]
  },
  {
   "cell_type": "code",
   "execution_count": 8,
   "id": "22bf4fb2-7c6c-451f-9b6a-8ba469ab3aa2",
   "metadata": {},
   "outputs": [
    {
     "name": "stdout",
     "output_type": "stream",
     "text": [
      "{'brand': 'BMW', 'Model': 'ix', 'Year': 2000}\n"
     ]
    }
   ],
   "source": [
    "# for Duplicate key items\n",
    "car_dict= {\"brand\":\"BMW\",\"Model\":\"ix\",\"Year\":1964,\"Year\":2000}\n",
    "print(car_dict)"
   ]
  },
  {
   "cell_type": "code",
   "execution_count": 9,
   "id": "ebcc0d44-df8e-4f80-8ec1-159b37206332",
   "metadata": {},
   "outputs": [
    {
     "name": "stdout",
     "output_type": "stream",
     "text": [
      "{'brand': 'BMW', 'Model': 'ix', 'Year': 2000}\n"
     ]
    }
   ],
   "source": [
    "# for Duplicate key items\n",
    "car_dict= {\"brand\":\"BMW\",\"Model\":\"ix\",\"Year\":2020,\"Year\":2000}\n",
    "print(car_dict)"
   ]
  },
  {
   "cell_type": "code",
   "execution_count": 10,
   "id": "d44dfa99-0645-4d23-a74b-e94561a85b16",
   "metadata": {},
   "outputs": [
    {
     "name": "stdout",
     "output_type": "stream",
     "text": [
      "ix\n"
     ]
    }
   ],
   "source": [
    "# Accessing Dictionary\n",
    "car_dict= {\"brand\":\"BMW\",\"Model\":\"ix\",\"Year\":1964}\n",
    "x=car_dict.get(\"Model\")\n",
    "print(x)"
   ]
  },
  {
   "cell_type": "code",
   "execution_count": 12,
   "id": "b0286f3d-1876-4a8a-86de-c7f18fbfcccc",
   "metadata": {},
   "outputs": [
    {
     "name": "stdout",
     "output_type": "stream",
     "text": [
      "dict_keys(['brand', 'Model', 'Year'])\n"
     ]
    }
   ],
   "source": [
    "# The Key () method will will return a list of all the keys in the dictionary.\n",
    "y=car_dict.keys()\n",
    "print(y)"
   ]
  },
  {
   "cell_type": "code",
   "execution_count": 13,
   "id": "847a2f00-3975-4c4e-9d53-4c36ebc7a11a",
   "metadata": {},
   "outputs": [
    {
     "name": "stdout",
     "output_type": "stream",
     "text": [
      "2024\n"
     ]
    }
   ],
   "source": [
    "# To change the values of dictionary\n",
    "z=car_dict[\"year\"]=2024\n",
    "print(z)"
   ]
  },
  {
   "cell_type": "code",
   "execution_count": 14,
   "id": "31e9df60-1f96-462f-ae03-3effe36d3d04",
   "metadata": {},
   "outputs": [
    {
     "name": "stdout",
     "output_type": "stream",
     "text": [
      "white\n"
     ]
    }
   ],
   "source": [
    "# To add new key:values in dictionary\n",
    "a= car_dict[\"color\"]=\"white\"\n",
    "print(a)"
   ]
  },
  {
   "cell_type": "code",
   "execution_count": 15,
   "id": "2258e47b-3697-4d5c-9e6d-99bc3eef0959",
   "metadata": {},
   "outputs": [
    {
     "name": "stdout",
     "output_type": "stream",
     "text": [
      "{'name': 'A', 'year': 2023, 'Pass': True, 'Marks': [50, 60, 70]}\n"
     ]
    }
   ],
   "source": [
    "# The values in dictionary items car be of any data type \n",
    "d3={\"name\":\"A\",'year':2023,'Pass':True,'Marks':[50,60,70]}\n",
    "print(d3)"
   ]
  },
  {
   "cell_type": "code",
   "execution_count": 16,
   "id": "0ed14137-2348-45eb-8676-12c9391b6a7c",
   "metadata": {},
   "outputs": [
    {
     "name": "stdout",
     "output_type": "stream",
     "text": [
      "{'name': 'A', 'year': 2024, 'Pass': True, 'Marks': [50, 60, 70]}\n"
     ]
    }
   ],
   "source": [
    "d3.update({'year':2024})\n",
    "print(d3)"
   ]
  },
  {
   "cell_type": "code",
   "execution_count": 17,
   "id": "92df1b65-8dfd-445e-8fc8-982472ec03ab",
   "metadata": {},
   "outputs": [
    {
     "name": "stdout",
     "output_type": "stream",
     "text": [
      "{'name': 'A', 'year': 2024, 'Pass': True, 'Marks': [50, 60, 70], 'phone_no': 98547854}\n"
     ]
    }
   ],
   "source": [
    "d3['phone_no']=98547854\n",
    "print(d3)"
   ]
  },
  {
   "cell_type": "code",
   "execution_count": 18,
   "id": "2b043b6a-a1db-4ea4-977e-b8b872ddb03f",
   "metadata": {},
   "outputs": [
    {
     "name": "stdout",
     "output_type": "stream",
     "text": [
      "{'name': 'A', 'year': 2024, 'Pass': True, 'Marks': [50, 60, 70], 'phone_no': 98547854, 'email': 'aaft@gmail.com'}\n"
     ]
    }
   ],
   "source": [
    "d3.update({'email':'aaft@gmail.com'})\n",
    "print(d3)"
   ]
  },
  {
   "cell_type": "code",
   "execution_count": 19,
   "id": "952f7f32-e1b4-41c6-ba67-acf7edb88d9f",
   "metadata": {},
   "outputs": [
    {
     "name": "stdout",
     "output_type": "stream",
     "text": [
      "{'name': 'A', 'year': 2024, 'Pass': True, 'Marks': [50, 60, 70], 'phone_no': 98547854}\n"
     ]
    }
   ],
   "source": [
    "# The popitems () method removes the list inserted item\n",
    "d3.popitem()\n",
    "print(d3)"
   ]
  },
  {
   "cell_type": "code",
   "execution_count": 20,
   "id": "82745927-7bdb-44e0-b9e3-1331c95c574b",
   "metadata": {},
   "outputs": [
    {
     "name": "stdout",
     "output_type": "stream",
     "text": [
      "{'name': 'A', 'year': 2024, 'Pass': True, 'phone_no': 98547854}\n"
     ]
    }
   ],
   "source": [
    "# The del keyword remove the items with the specified key\n",
    "del d3['Marks']\n",
    "print(d3)"
   ]
  },
  {
   "cell_type": "code",
   "execution_count": null,
   "id": "bd00ee2f-c4fb-4639-8388-f82970a8ec31",
   "metadata": {},
   "outputs": [],
   "source": []
  }
 ],
 "metadata": {
  "kernelspec": {
   "display_name": "Python 3 (ipykernel)",
   "language": "python",
   "name": "python3"
  },
  "language_info": {
   "codemirror_mode": {
    "name": "ipython",
    "version": 3
   },
   "file_extension": ".py",
   "mimetype": "text/x-python",
   "name": "python",
   "nbconvert_exporter": "python",
   "pygments_lexer": "ipython3",
   "version": "3.12.4"
  }
 },
 "nbformat": 4,
 "nbformat_minor": 5
}
