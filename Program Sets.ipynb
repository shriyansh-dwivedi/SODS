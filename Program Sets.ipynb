{
 "cells": [
  {
   "cell_type": "code",
   "execution_count": 1,
   "id": "f84e688e-3568-4479-9e46-3543bcc70e29",
   "metadata": {},
   "outputs": [],
   "source": [
    "              # SETS #"
   ]
  },
  {
   "cell_type": "code",
   "execution_count": 2,
   "id": "4e27240e-4108-46bb-95dd-52a131e5274e",
   "metadata": {},
   "outputs": [
    {
     "name": "stdout",
     "output_type": "stream",
     "text": [
      "{1, 2, 3, 4, 5, 6}\n"
     ]
    }
   ],
   "source": [
    "myset = {1,1,2,2,3,4,5,6,6}      # sets\n",
    "print(myset)"
   ]
  },
  {
   "cell_type": "code",
   "execution_count": 3,
   "id": "4c5954d3-79c8-4754-8795-a33221931d76",
   "metadata": {},
   "outputs": [
    {
     "name": "stdout",
     "output_type": "stream",
     "text": [
      "{False, True, 2, 'Apple', 'Banana', 'Cherry'}\n"
     ]
    }
   ],
   "source": [
    "myset={\"Apple\",\"Banana\",\"Cherry\",True,False,0,1,2}\n",
    "print(myset)"
   ]
  },
  {
   "cell_type": "code",
   "execution_count": 4,
   "id": "522d3486-1456-4761-9147-367b4c13c3e2",
   "metadata": {},
   "outputs": [
    {
     "name": "stdout",
     "output_type": "stream",
     "text": [
      "True\n"
     ]
    }
   ],
   "source": [
    "thisset={\"Shyam\",\"Mohan\",\"Sumit\"}\n",
    "print(\"Shyam\" in thisset)"
   ]
  },
  {
   "cell_type": "code",
   "execution_count": 5,
   "id": "aed6789e-7039-403b-9b44-2ff965af8b13",
   "metadata": {},
   "outputs": [
    {
     "name": "stdout",
     "output_type": "stream",
     "text": [
      "False\n"
     ]
    }
   ],
   "source": [
    "thisset={\"Shyam\",\"Mohan\",\"Sumit\"}\n",
    "print(\"Shyam\" not in thisset)"
   ]
  },
  {
   "cell_type": "code",
   "execution_count": 6,
   "id": "6810b9ae-2e8e-4909-9c7b-67eef3ef01d4",
   "metadata": {},
   "outputs": [
    {
     "name": "stdout",
     "output_type": "stream",
     "text": [
      "{'Varun', 'Rohan', 'Radha', 'Anjali'}\n"
     ]
    }
   ],
   "source": [
    "thisset = {\"Rohan\",\"Varun\",\"Anjali\"}\n",
    "thisset.add(\"Radha\")\n",
    "print(thisset)"
   ]
  },
  {
   "cell_type": "code",
   "execution_count": 7,
   "id": "3df2692a-ffd5-4005-933e-5a0e20667b15",
   "metadata": {},
   "outputs": [
    {
     "name": "stdout",
     "output_type": "stream",
     "text": [
      "{'Rohan', 'Varun', 'Ram', 'Anjali', 'Radha'}\n"
     ]
    }
   ],
   "source": [
    "thisset = {\"Rohan\",\"Varun\",\"Anjali\"}\n",
    "mylist = [\"Radha\",\"Ram\"]\n",
    "thisset.update(mylist)\n",
    "print(thisset)"
   ]
  },
  {
   "cell_type": "code",
   "execution_count": 8,
   "id": "fac132a3-32f3-4050-91e1-3d590ff173f8",
   "metadata": {},
   "outputs": [
    {
     "name": "stdout",
     "output_type": "stream",
     "text": [
      "{'Varun', 'Anjali'}\n"
     ]
    }
   ],
   "source": [
    "thisset = {\"Rohan\",\"Varun\",\"Anjali\"}\n",
    "thisset.remove(\"Rohan\")\n",
    "print(thisset)"
   ]
  },
  {
   "cell_type": "code",
   "execution_count": 10,
   "id": "9452f35d-df08-4f13-b29e-ac7553b117a1",
   "metadata": {},
   "outputs": [
    {
     "name": "stdout",
     "output_type": "stream",
     "text": [
      "{'Varun', 'Anjali'}\n"
     ]
    }
   ],
   "source": [
    "thisset = {\"Rohan\",\"Varun\",\"Anjali\"}\n",
    "thisset.remove(\"Rohan\")\n",
    "print(thisset)"
   ]
  },
  {
   "cell_type": "code",
   "execution_count": 11,
   "id": "2f31fc11-fe16-42ed-92d3-8a5f7c0c5377",
   "metadata": {},
   "outputs": [
    {
     "name": "stdout",
     "output_type": "stream",
     "text": [
      "{'Rohan', 'Anjali'}\n"
     ]
    }
   ],
   "source": [
    "thisset = {\"Rohan\",\"Varun\",\"Anjali\"}\n",
    "x = thisset.pop()\n",
    "print(thisset)"
   ]
  },
  {
   "cell_type": "code",
   "execution_count": 12,
   "id": "4f13a608-a7cf-4965-b2dc-2f10052f44bc",
   "metadata": {},
   "outputs": [
    {
     "name": "stdout",
     "output_type": "stream",
     "text": [
      "Varun\n",
      "{'Rohan', 'Anjali'}\n"
     ]
    }
   ],
   "source": [
    "thisset = {\"Rohan\",\"Varun\",\"Anjali\"}\n",
    "x = thisset.pop()\n",
    "print(x) #remove item\n",
    "print(thisset) #The setafter remove"
   ]
  },
  {
   "cell_type": "code",
   "execution_count": 15,
   "id": "a606b496-e89c-4d52-88ae-434d42c14620",
   "metadata": {},
   "outputs": [
    {
     "name": "stdout",
     "output_type": "stream",
     "text": [
      "{4, 5, 6}\n"
     ]
    }
   ],
   "source": [
    "# Joning Sets \n",
    "set1 = {\"Rohan\",\"Varun\",\"Anjali\"}     # Union\n",
    "set2 = {1,2,3}\n",
    "set3 = {4,5,6}\n",
    "print(set3)"
   ]
  },
  {
   "cell_type": "code",
   "execution_count": 16,
   "id": "63d4cb60-ae40-4a5d-a982-fe7350f6bdb6",
   "metadata": {},
   "outputs": [
    {
     "name": "stdout",
     "output_type": "stream",
     "text": [
      "{1, 2, 'Rohan', 3, 'Motu', 'Varun', 'Patlu', 'king', 'Anjali', 'Kong'}\n"
     ]
    }
   ],
   "source": [
    "set1 = {\"Rohan\",\"Varun\",\"Anjali\"}    \n",
    "set2 = {1,2,3}\n",
    "set3 = {\"Motu\",\"Patlu\"}\n",
    "set4 = {\"king\",\"Kong\"}\n",
    "largest=set1.union (set2,set3,set4)\n",
    "print(largest)"
   ]
  },
  {
   "cell_type": "code",
   "execution_count": 17,
   "id": "5e33a1b7-c145-480d-85ba-d51ecb179125",
   "metadata": {},
   "outputs": [
    {
     "name": "stdout",
     "output_type": "stream",
     "text": [
      "{'Rohan'}\n"
     ]
    }
   ],
   "source": [
    "# & Oprator\n",
    "set1 = {\"Rohan\",\"Varun\",\"Anjali\"}    \n",
    "set2 = {1,2,3,\"Rohan\"}\n",
    "set3 = set1 & set2\n",
    "print(set3)"
   ]
  },
  {
   "cell_type": "code",
   "execution_count": 39,
   "id": "e82c7316-c4bc-4ce1-9a1e-4887cc31483c",
   "metadata": {},
   "outputs": [
    {
     "name": "stdout",
     "output_type": "stream",
     "text": [
      "{'Varun', 'Anjali'}\n"
     ]
    }
   ],
   "source": [
    "# Deffrence Method\n",
    "set1 = {\"Rohan\",\"Varun\",\"Anjali\"}    \n",
    "set2 = {1,2,3,\"Rohan\"}\n",
    "set3 = set1.difference(set2)\n",
    "print(set3)"
   ]
  },
  {
   "cell_type": "code",
   "execution_count": null,
   "id": "d1846fe3-43a0-43f1-a579-18560dc958af",
   "metadata": {},
   "outputs": [],
   "source": []
  }
 ],
 "metadata": {
  "kernelspec": {
   "display_name": "Python 3 (ipykernel)",
   "language": "python",
   "name": "python3"
  },
  "language_info": {
   "codemirror_mode": {
    "name": "ipython",
    "version": 3
   },
   "file_extension": ".py",
   "mimetype": "text/x-python",
   "name": "python",
   "nbconvert_exporter": "python",
   "pygments_lexer": "ipython3",
   "version": "3.12.4"
  }
 },
 "nbformat": 4,
 "nbformat_minor": 5
}
